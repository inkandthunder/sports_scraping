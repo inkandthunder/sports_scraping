{
 "cells": [
  {
   "cell_type": "code",
   "execution_count": 33,
   "metadata": {},
   "outputs": [],
   "source": [
    "#Import Libraries\n",
    "import pandas as pd\n",
    "import re\n",
    "import requests\n",
    "from bs4 import BeautifulSoup\n",
    "\n",
    "for i in range(1,331,50):\n",
    "\n",
    "    #Pull in website source code\n",
    "    url = 'http://www.espn.com/mlb/history/leaders/_/breakdown/season/year/2018/start/{}'.format(i)\n",
    "    page = requests.get(url)\n",
    "    soup = BeautifulSoup(page.text, 'html.parser')\n",
    "    \n",
    "    ##Identify Header Row\n",
    "    #header = soup.find('tr', attrs = {'class': 'colhead'})\n",
    "    ##Extract column names from Header Row\n",
    "    #columns = [col.get_text() for col in header.find_all('td')]\n",
    "    #columns\n",
    "\n",
    "    #Create an empty dataframe with column names from the header\n",
    "    #final_df = pd.DataFrame(columns=columns)\n",
    "\n",
    "    #Identify Player rows\n",
    "    players = soup.find_all('tr', attrs={'class':re.compile('row player-10-')})\n",
    "    for player in players:\n",
    "\n",
    "        #Get the stats for each player\n",
    "        stats = [stat.get_text() for stat in player.find_all('td')]\n",
    "\n",
    "        #Create a dataframe for the single player's stats\n",
    "        temp_df = pd.DataFrame(stats).transpose()\n",
    "        temp_df.columns = columns\n",
    "\n",
    "        #Join the single player's stats with the overall dataset\n",
    "        final_df = pd.concat([final_df,temp_df], ignore_index=True)\n",
    "\n",
    "final_df\n",
    "final_df.to_csv('mlb_scrape.csv', index=False, sep=',', encoding='utf-8')\n",
    "#row = soup.find('tr', attrs = {'class': 'oddrow player-10-33039'})\n",
    "#for data in row.find_all('td'):\n",
    "#    print(data.get_text())"
   ]
  },
  {
   "cell_type": "code",
   "execution_count": null,
   "metadata": {},
   "outputs": [],
   "source": []
  }
 ],
 "metadata": {
  "kernelspec": {
   "display_name": "Python 3",
   "language": "python",
   "name": "python3"
  },
  "language_info": {
   "codemirror_mode": {
    "name": "ipython",
    "version": 3
   },
   "file_extension": ".py",
   "mimetype": "text/x-python",
   "name": "python",
   "nbconvert_exporter": "python",
   "pygments_lexer": "ipython3",
   "version": "3.7.0"
  }
 },
 "nbformat": 4,
 "nbformat_minor": 4
}
